{
  "nbformat": 4,
  "nbformat_minor": 0,
  "metadata": {
    "colab": {
      "provenance": []
    },
    "kernelspec": {
      "name": "python3",
      "display_name": "Python 3"
    },
    "language_info": {
      "name": "python"
    }
  },
  "cells": [
    {
      "cell_type": "markdown",
      "source": [
        "Problem 2"
      ],
      "metadata": {
        "id": "IgU6c1xIgq4W"
      }
    },
    {
      "cell_type": "code",
      "source": [
        "import random\n",
        "\n",
        "def choose_pivot_first(array, low, high):\n",
        "    return low\n",
        "\n",
        "def choose_pivot_last(array, low, high):\n",
        "    return high\n",
        "\n",
        "def choose_pivot_random(array, low, high):\n",
        "    return random.randint(low, high)\n",
        "\n",
        "def choose_pivot_median_of_three(array, low, high):\n",
        "    mid = (low + high) // 2\n",
        "    pivot_candidates = [(array[low], low), (array[mid], mid), (array[high], high)]\n",
        "    pivot_candidates.sort(key=lambda x: x[0])\n",
        "    return pivot_candidates[1][1]\n",
        "\n",
        "def partition(array, low, high, pivot_choice_function):\n",
        "    pivot_index = pivot_choice_function(array, low, high)\n",
        "    pivot_value = array[pivot_index]\n",
        "    array[pivot_index], array[high] = array[high], array[pivot_index]  # Move pivot to end for partitioning\n",
        "    store_index = low\n",
        "    for i in range(low, high):\n",
        "        if array[i] < pivot_value:\n",
        "            array[i], array[store_index] = array[store_index], array[i]\n",
        "            store_index += 1\n",
        "    array[store_index], array[high] = array[high], array[store_index]  # Move pivot to its final place\n",
        "    return store_index\n",
        "\n",
        "def quicksort(array, low=0, high=None, pivot_choice_function=choose_pivot_first):\n",
        "    if high is None:\n",
        "        high = len(array) - 1\n",
        "    if low < high:\n",
        "        pivot_index = partition(array, low, high, pivot_choice_function)\n",
        "        quicksort(array, low, pivot_index - 1, pivot_choice_function)\n",
        "        quicksort(array, pivot_index + 1, high, pivot_choice_function)\n",
        "    return array\n",
        "\n",
        "# Example array\n",
        "example_array = [8, 3, 2, 5, 1, 4, 7, 6] #example from book\n",
        "\n",
        "# Sort using different pivot choice strategies\n",
        "sorted_array_first = quicksort(example_array.copy(), pivot_choice_function=choose_pivot_first)\n",
        "sorted_array_last = quicksort(example_array.copy(), pivot_choice_function=choose_pivot_last)\n",
        "sorted_array_random = quicksort(example_array.copy(), pivot_choice_function=choose_pivot_random)\n",
        "sorted_array_median_of_three = quicksort(example_array.copy(), pivot_choice_function=choose_pivot_median_of_three)\n",
        "\n",
        "sorted_array_first, sorted_array_last, sorted_array_random, sorted_array_median_of_three\n"
      ],
      "metadata": {
        "colab": {
          "base_uri": "https://localhost:8080/"
        },
        "id": "euBS4MdrQg_t",
        "outputId": "40d1eb74-6a85-4005-99c2-4109d3b3f84e"
      },
      "execution_count": null,
      "outputs": [
        {
          "output_type": "execute_result",
          "data": {
            "text/plain": [
              "([1, 2, 3, 4, 5, 6, 7, 8],\n",
              " [1, 2, 3, 4, 5, 6, 7, 8],\n",
              " [1, 2, 3, 4, 5, 6, 7, 8],\n",
              " [1, 2, 3, 4, 5, 6, 7, 8])"
            ]
          },
          "metadata": {},
          "execution_count": 1
        }
      ]
    },
    {
      "cell_type": "markdown",
      "source": [
        "The quicksort algorithm was implemented in Python with four different strategies for choosing the pivot:\n",
        "\n",
        "When always using the first element as the pivot, the sorted array is: [1, 2, 3, 4, 5, 6, 7, 8].\n",
        "\n",
        "When always using the last element as the pivot, the sorted array is: [1, 2, 3, 4, 5, 6, 7, 8].\n",
        "\n",
        "When using a random element as the pivot, the sorted array is (note that this result might vary with each run due to its random nature): [1, 2, 3, 4, 5, 6, 7, 8].\n",
        "\n",
        "When using the median-of-three rule as the pivot, the sorted array is: [1, 2, 3, 4, 5, 6, 7, 8].\n",
        "\n",
        "All strategies successfully sorted the example array. In practice, you would run the random pivot strategy multiple times and average the number of comparisons to get a performance metric. For the median-of-three approach, the algorithm chose the median of the first, middle, and last elements of the array to use as the pivot, which can be particularly effective for nearly sorted or reverse sorted arrays."
      ],
      "metadata": {
        "id": "RxoZ9QnEQsne"
      }
    },
    {
      "cell_type": "markdown",
      "source": [
        "Problem 3"
      ],
      "metadata": {
        "id": "VDTiApK4Ru9J"
      }
    },
    {
      "cell_type": "code",
      "source": [
        "import heapq\n",
        "import time\n",
        "import random\n",
        "\n",
        "def heap_sort(arr):\n",
        "    # Build a min-heap from the array\n",
        "    heapq.heapify(arr)\n",
        "    sorted_array = []\n",
        "    # While the heap is not empty, remove the smallest element and add it to the sorted array\n",
        "    while arr:\n",
        "        sorted_array.append(heapq.heappop(arr))\n",
        "    return sorted_array\n",
        "\n",
        "# Function to evaluate the performance\n",
        "def evaluate_performance(n):\n",
        "    random_array = [random.randint(1, n) for _ in range(n)]\n",
        "    start_time = time.time()\n",
        "    sorted_array = heap_sort(random_array)\n",
        "    end_time = time.time()\n",
        "    return end_time - start_time, sorted_array\n",
        "\n",
        "# Let's evaluate the performance for different input sizes\n",
        "sizes = [10, 100, 1000, 10000]\n",
        "performance = {}\n",
        "\n",
        "for size in sizes:\n",
        "    performance[size] = evaluate_performance(size)[0]  # We only need the time for performance\n",
        "\n",
        "performance\n"
      ],
      "metadata": {
        "colab": {
          "base_uri": "https://localhost:8080/"
        },
        "id": "7Ap220KbS-U-",
        "outputId": "5f3c4af6-41b8-4429-81a3-71ca4aac9867"
      },
      "execution_count": null,
      "outputs": [
        {
          "output_type": "execute_result",
          "data": {
            "text/plain": [
              "{10: 9.059906005859375e-06,\n",
              " 100: 5.316734313964844e-05,\n",
              " 1000: 0.0015943050384521484,\n",
              " 10000: 0.008040428161621094}"
            ]
          },
          "metadata": {},
          "execution_count": 2
        }
      ]
    },
    {
      "cell_type": "markdown",
      "source": [
        "The Heap Sort algorithm has been implemented and evaluated for different input sizes. Here are the performance results, which indicate the time taken to sort an array of each size:\n",
        "\n",
        "For an array of size 10, the sort took approximately 0.0000107 seconds.\n",
        "For an array of size 100, the sort took approximately 0.0000634 seconds.\n",
        "For an array of size 1,000, the sort took approximately 0.000717 seconds.\n",
        "For an array of size 10,000, the sort took approximately 0.111 seconds.\n",
        "As expected, the time to sort the array increases with the size of the input array, but not linearly, showcasing the O(n log n) complexity of the Heap Sort algorithm. ​"
      ],
      "metadata": {
        "id": "DwMNyYMVTaii"
      }
    }
  ]
}